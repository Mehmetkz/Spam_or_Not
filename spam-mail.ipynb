{
 "cells": [
  {
   "cell_type": "markdown",
   "id": "prescribed-intervention",
   "metadata": {
    "_cell_guid": "b1076dfc-b9ad-4769-8c92-a6c4dae69d19",
    "_uuid": "8f2839f25d086af736a60e9eeb907d3b93b6e0e5",
    "papermill": {
     "duration": 0.025536,
     "end_time": "2021-05-09T14:41:36.864095",
     "exception": false,
     "start_time": "2021-05-09T14:41:36.838559",
     "status": "completed"
    },
    "tags": []
   },
   "source": [
    "This program detects if an e-mail is spam(1) or not (0)"
   ]
  },
  {
   "cell_type": "code",
   "execution_count": 1,
   "id": "southern-jurisdiction",
   "metadata": {
    "execution": {
     "iopub.execute_input": "2021-05-09T14:41:36.924730Z",
     "iopub.status.busy": "2021-05-09T14:41:36.923916Z",
     "iopub.status.idle": "2021-05-09T14:41:38.736134Z",
     "shell.execute_reply": "2021-05-09T14:41:38.736897Z"
    },
    "papermill": {
     "duration": 1.849563,
     "end_time": "2021-05-09T14:41:38.737280",
     "exception": false,
     "start_time": "2021-05-09T14:41:36.887717",
     "status": "completed"
    },
    "tags": []
   },
   "outputs": [
    {
     "name": "stdout",
     "output_type": "stream",
     "text": [
      "/kaggle/input/sms-spam-collection-dataset/spam.csv\n"
     ]
    }
   ],
   "source": [
    "import numpy as np \n",
    "import pandas as pd \n",
    "import nltk\n",
    "from nltk.corpus import stopwords\n",
    "import string\n",
    "import os\n",
    "for dirname, _, filenames in os.walk('/kaggle/input'):\n",
    "    for filename in filenames:\n",
    "        print(os.path.join(dirname, filename))"
   ]
  },
  {
   "cell_type": "code",
   "execution_count": 2,
   "id": "technological-falls",
   "metadata": {
    "execution": {
     "iopub.execute_input": "2021-05-09T14:41:38.794199Z",
     "iopub.status.busy": "2021-05-09T14:41:38.793303Z",
     "iopub.status.idle": "2021-05-09T14:41:38.796288Z",
     "shell.execute_reply": "2021-05-09T14:41:38.795726Z"
    },
    "papermill": {
     "duration": 0.033207,
     "end_time": "2021-05-09T14:41:38.796432",
     "exception": false,
     "start_time": "2021-05-09T14:41:38.763225",
     "status": "completed"
    },
    "tags": []
   },
   "outputs": [],
   "source": [
    "pd.set_option('display.max_columns',None)\n",
    "pd.set_option('display.expand_frame_repr',False)"
   ]
  },
  {
   "cell_type": "markdown",
   "id": "therapeutic-payday",
   "metadata": {
    "papermill": {
     "duration": 0.024019,
     "end_time": "2021-05-09T14:41:38.844770",
     "exception": false,
     "start_time": "2021-05-09T14:41:38.820751",
     "status": "completed"
    },
    "tags": []
   },
   "source": [
    "Read the data"
   ]
  },
  {
   "cell_type": "code",
   "execution_count": 3,
   "id": "physical-novelty",
   "metadata": {
    "execution": {
     "iopub.execute_input": "2021-05-09T14:41:38.899340Z",
     "iopub.status.busy": "2021-05-09T14:41:38.898640Z",
     "iopub.status.idle": "2021-05-09T14:41:38.961355Z",
     "shell.execute_reply": "2021-05-09T14:41:38.961931Z"
    },
    "papermill": {
     "duration": 0.092996,
     "end_time": "2021-05-09T14:41:38.962113",
     "exception": false,
     "start_time": "2021-05-09T14:41:38.869117",
     "status": "completed"
    },
    "tags": []
   },
   "outputs": [
    {
     "data": {
      "text/html": [
       "<div>\n",
       "<style scoped>\n",
       "    .dataframe tbody tr th:only-of-type {\n",
       "        vertical-align: middle;\n",
       "    }\n",
       "\n",
       "    .dataframe tbody tr th {\n",
       "        vertical-align: top;\n",
       "    }\n",
       "\n",
       "    .dataframe thead th {\n",
       "        text-align: right;\n",
       "    }\n",
       "</style>\n",
       "<table border=\"1\" class=\"dataframe\">\n",
       "  <thead>\n",
       "    <tr style=\"text-align: right;\">\n",
       "      <th></th>\n",
       "      <th>v1</th>\n",
       "      <th>v2</th>\n",
       "      <th>Unnamed: 2</th>\n",
       "      <th>Unnamed: 3</th>\n",
       "      <th>Unnamed: 4</th>\n",
       "    </tr>\n",
       "  </thead>\n",
       "  <tbody>\n",
       "    <tr>\n",
       "      <th>5567</th>\n",
       "      <td>spam</td>\n",
       "      <td>This is the 2nd time we have tried 2 contact u...</td>\n",
       "      <td>NaN</td>\n",
       "      <td>NaN</td>\n",
       "      <td>NaN</td>\n",
       "    </tr>\n",
       "    <tr>\n",
       "      <th>5568</th>\n",
       "      <td>ham</td>\n",
       "      <td>Will �_ b going to esplanade fr home?</td>\n",
       "      <td>NaN</td>\n",
       "      <td>NaN</td>\n",
       "      <td>NaN</td>\n",
       "    </tr>\n",
       "    <tr>\n",
       "      <th>5569</th>\n",
       "      <td>ham</td>\n",
       "      <td>Pity, * was in mood for that. So...any other s...</td>\n",
       "      <td>NaN</td>\n",
       "      <td>NaN</td>\n",
       "      <td>NaN</td>\n",
       "    </tr>\n",
       "    <tr>\n",
       "      <th>5570</th>\n",
       "      <td>ham</td>\n",
       "      <td>The guy did some bitching but I acted like i'd...</td>\n",
       "      <td>NaN</td>\n",
       "      <td>NaN</td>\n",
       "      <td>NaN</td>\n",
       "    </tr>\n",
       "    <tr>\n",
       "      <th>5571</th>\n",
       "      <td>ham</td>\n",
       "      <td>Rofl. Its true to its name</td>\n",
       "      <td>NaN</td>\n",
       "      <td>NaN</td>\n",
       "      <td>NaN</td>\n",
       "    </tr>\n",
       "  </tbody>\n",
       "</table>\n",
       "</div>"
      ],
      "text/plain": [
       "        v1                                                 v2 Unnamed: 2 Unnamed: 3 Unnamed: 4\n",
       "5567  spam  This is the 2nd time we have tried 2 contact u...        NaN        NaN        NaN\n",
       "5568   ham              Will �_ b going to esplanade fr home?        NaN        NaN        NaN\n",
       "5569   ham  Pity, * was in mood for that. So...any other s...        NaN        NaN        NaN\n",
       "5570   ham  The guy did some bitching but I acted like i'd...        NaN        NaN        NaN\n",
       "5571   ham                         Rofl. Its true to its name        NaN        NaN        NaN"
      ]
     },
     "execution_count": 3,
     "metadata": {},
     "output_type": "execute_result"
    }
   ],
   "source": [
    "data = pd.read_csv(\"../input/sms-spam-collection-dataset/spam.csv\")\n",
    "data.tail()"
   ]
  },
  {
   "cell_type": "code",
   "execution_count": 4,
   "id": "developmental-strategy",
   "metadata": {
    "execution": {
     "iopub.execute_input": "2021-05-09T14:41:39.018081Z",
     "iopub.status.busy": "2021-05-09T14:41:39.017059Z",
     "iopub.status.idle": "2021-05-09T14:41:39.039382Z",
     "shell.execute_reply": "2021-05-09T14:41:39.039908Z"
    },
    "papermill": {
     "duration": 0.052988,
     "end_time": "2021-05-09T14:41:39.040114",
     "exception": false,
     "start_time": "2021-05-09T14:41:38.987126",
     "status": "completed"
    },
    "tags": []
   },
   "outputs": [
    {
     "name": "stdout",
     "output_type": "stream",
     "text": [
      "<class 'pandas.core.frame.DataFrame'>\n",
      "RangeIndex: 5572 entries, 0 to 5571\n",
      "Data columns (total 5 columns):\n",
      " #   Column      Non-Null Count  Dtype \n",
      "---  ------      --------------  ----- \n",
      " 0   v1          5572 non-null   object\n",
      " 1   v2          5572 non-null   object\n",
      " 2   Unnamed: 2  50 non-null     object\n",
      " 3   Unnamed: 3  12 non-null     object\n",
      " 4   Unnamed: 4  6 non-null      object\n",
      "dtypes: object(5)\n",
      "memory usage: 217.8+ KB\n"
     ]
    }
   ],
   "source": [
    "data.info()"
   ]
  },
  {
   "cell_type": "code",
   "execution_count": 5,
   "id": "deluxe-laser",
   "metadata": {
    "execution": {
     "iopub.execute_input": "2021-05-09T14:41:39.099303Z",
     "iopub.status.busy": "2021-05-09T14:41:39.098156Z",
     "iopub.status.idle": "2021-05-09T14:41:39.103271Z",
     "shell.execute_reply": "2021-05-09T14:41:39.102589Z"
    },
    "papermill": {
     "duration": 0.037175,
     "end_time": "2021-05-09T14:41:39.103420",
     "exception": false,
     "start_time": "2021-05-09T14:41:39.066245",
     "status": "completed"
    },
    "tags": []
   },
   "outputs": [
    {
     "data": {
      "text/plain": [
       "array([nan, ' just Keep-in-touch\\\\\" gdeve..\"', 'GNT:-)\"',\n",
       "       ' Never comfort me with a lie\\\\\" gud ni8 and sweet dreams\"',\n",
       "       ' CALL 2MWEN IM BK FRMCLOUD 9! J X\\\\\"\"',\n",
       "       ' one day these two will become FREINDS FOREVER!\"'], dtype=object)"
      ]
     },
     "execution_count": 5,
     "metadata": {},
     "output_type": "execute_result"
    }
   ],
   "source": [
    "data[\"Unnamed: 4\"].unique()"
   ]
  },
  {
   "cell_type": "markdown",
   "id": "olive-waterproof",
   "metadata": {
    "papermill": {
     "duration": 0.027132,
     "end_time": "2021-05-09T14:41:39.156454",
     "exception": false,
     "start_time": "2021-05-09T14:41:39.129322",
     "status": "completed"
    },
    "tags": []
   },
   "source": [
    "Columns 2,3,4 contain no important data and can be deleted.\n",
    "Also, we rename column v1 as \"label\" and v2 as \"text\""
   ]
  },
  {
   "cell_type": "code",
   "execution_count": 6,
   "id": "angry-jacket",
   "metadata": {
    "execution": {
     "iopub.execute_input": "2021-05-09T14:41:39.212789Z",
     "iopub.status.busy": "2021-05-09T14:41:39.211781Z",
     "iopub.status.idle": "2021-05-09T14:41:39.217804Z",
     "shell.execute_reply": "2021-05-09T14:41:39.218348Z"
    },
    "papermill": {
     "duration": 0.03585,
     "end_time": "2021-05-09T14:41:39.218559",
     "exception": false,
     "start_time": "2021-05-09T14:41:39.182709",
     "status": "completed"
    },
    "tags": []
   },
   "outputs": [],
   "source": [
    "data = data.drop([\"Unnamed: 2\", \"Unnamed: 3\", \"Unnamed: 4\"], axis=1)\n",
    "column_name = [\"Spam\",\"Text\"]\n",
    "data.columns = column_name"
   ]
  },
  {
   "cell_type": "code",
   "execution_count": 7,
   "id": "listed-cannon",
   "metadata": {
    "execution": {
     "iopub.execute_input": "2021-05-09T14:41:39.275274Z",
     "iopub.status.busy": "2021-05-09T14:41:39.274292Z",
     "iopub.status.idle": "2021-05-09T14:41:39.284521Z",
     "shell.execute_reply": "2021-05-09T14:41:39.283815Z"
    },
    "papermill": {
     "duration": 0.040078,
     "end_time": "2021-05-09T14:41:39.284667",
     "exception": false,
     "start_time": "2021-05-09T14:41:39.244589",
     "status": "completed"
    },
    "tags": []
   },
   "outputs": [
    {
     "data": {
      "text/html": [
       "<div>\n",
       "<style scoped>\n",
       "    .dataframe tbody tr th:only-of-type {\n",
       "        vertical-align: middle;\n",
       "    }\n",
       "\n",
       "    .dataframe tbody tr th {\n",
       "        vertical-align: top;\n",
       "    }\n",
       "\n",
       "    .dataframe thead th {\n",
       "        text-align: right;\n",
       "    }\n",
       "</style>\n",
       "<table border=\"1\" class=\"dataframe\">\n",
       "  <thead>\n",
       "    <tr style=\"text-align: right;\">\n",
       "      <th></th>\n",
       "      <th>Spam</th>\n",
       "      <th>Text</th>\n",
       "    </tr>\n",
       "  </thead>\n",
       "  <tbody>\n",
       "    <tr>\n",
       "      <th>0</th>\n",
       "      <td>ham</td>\n",
       "      <td>Go until jurong point, crazy.. Available only ...</td>\n",
       "    </tr>\n",
       "    <tr>\n",
       "      <th>1</th>\n",
       "      <td>ham</td>\n",
       "      <td>Ok lar... Joking wif u oni...</td>\n",
       "    </tr>\n",
       "    <tr>\n",
       "      <th>2</th>\n",
       "      <td>spam</td>\n",
       "      <td>Free entry in 2 a wkly comp to win FA Cup fina...</td>\n",
       "    </tr>\n",
       "    <tr>\n",
       "      <th>3</th>\n",
       "      <td>ham</td>\n",
       "      <td>U dun say so early hor... U c already then say...</td>\n",
       "    </tr>\n",
       "    <tr>\n",
       "      <th>4</th>\n",
       "      <td>ham</td>\n",
       "      <td>Nah I don't think he goes to usf, he lives aro...</td>\n",
       "    </tr>\n",
       "  </tbody>\n",
       "</table>\n",
       "</div>"
      ],
      "text/plain": [
       "   Spam                                               Text\n",
       "0   ham  Go until jurong point, crazy.. Available only ...\n",
       "1   ham                      Ok lar... Joking wif u oni...\n",
       "2  spam  Free entry in 2 a wkly comp to win FA Cup fina...\n",
       "3   ham  U dun say so early hor... U c already then say...\n",
       "4   ham  Nah I don't think he goes to usf, he lives aro..."
      ]
     },
     "execution_count": 7,
     "metadata": {},
     "output_type": "execute_result"
    }
   ],
   "source": [
    "data.head()"
   ]
  },
  {
   "cell_type": "markdown",
   "id": "colored-cartoon",
   "metadata": {
    "papermill": {
     "duration": 0.026535,
     "end_time": "2021-05-09T14:41:39.337896",
     "exception": false,
     "start_time": "2021-05-09T14:41:39.311361",
     "status": "completed"
    },
    "tags": []
   },
   "source": [
    "Update label names"
   ]
  },
  {
   "cell_type": "code",
   "execution_count": 8,
   "id": "willing-fifty",
   "metadata": {
    "execution": {
     "iopub.execute_input": "2021-05-09T14:41:39.400931Z",
     "iopub.status.busy": "2021-05-09T14:41:39.399998Z",
     "iopub.status.idle": "2021-05-09T14:41:39.403192Z",
     "shell.execute_reply": "2021-05-09T14:41:39.402664Z"
    },
    "papermill": {
     "duration": 0.038676,
     "end_time": "2021-05-09T14:41:39.403337",
     "exception": false,
     "start_time": "2021-05-09T14:41:39.364661",
     "status": "completed"
    },
    "tags": []
   },
   "outputs": [],
   "source": [
    "data[\"Spam\"].loc[data[\"Spam\"] == \"ham\"] = 1\n",
    "data[\"Spam\"].loc[data[\"Spam\"] == \"spam\"] = 0"
   ]
  },
  {
   "cell_type": "code",
   "execution_count": 9,
   "id": "daily-illustration",
   "metadata": {
    "execution": {
     "iopub.execute_input": "2021-05-09T14:41:39.463051Z",
     "iopub.status.busy": "2021-05-09T14:41:39.462356Z",
     "iopub.status.idle": "2021-05-09T14:41:39.465332Z",
     "shell.execute_reply": "2021-05-09T14:41:39.465910Z"
    },
    "papermill": {
     "duration": 0.035957,
     "end_time": "2021-05-09T14:41:39.466094",
     "exception": false,
     "start_time": "2021-05-09T14:41:39.430137",
     "status": "completed"
    },
    "tags": []
   },
   "outputs": [
    {
     "data": {
      "text/plain": [
       "array([1, 0], dtype=object)"
      ]
     },
     "execution_count": 9,
     "metadata": {},
     "output_type": "execute_result"
    }
   ],
   "source": [
    "data[\"Spam\"].unique()"
   ]
  },
  {
   "cell_type": "code",
   "execution_count": 10,
   "id": "appreciated-button",
   "metadata": {
    "execution": {
     "iopub.execute_input": "2021-05-09T14:41:39.526123Z",
     "iopub.status.busy": "2021-05-09T14:41:39.525389Z",
     "iopub.status.idle": "2021-05-09T14:41:39.530306Z",
     "shell.execute_reply": "2021-05-09T14:41:39.530882Z"
    },
    "papermill": {
     "duration": 0.035664,
     "end_time": "2021-05-09T14:41:39.531073",
     "exception": false,
     "start_time": "2021-05-09T14:41:39.495409",
     "status": "completed"
    },
    "tags": []
   },
   "outputs": [],
   "source": [
    "Spam = [liste for liste in data[\"Spam\"]]"
   ]
  },
  {
   "cell_type": "code",
   "execution_count": 11,
   "id": "experimental-surface",
   "metadata": {
    "execution": {
     "iopub.execute_input": "2021-05-09T14:41:39.589205Z",
     "iopub.status.busy": "2021-05-09T14:41:39.588516Z",
     "iopub.status.idle": "2021-05-09T14:41:39.597588Z",
     "shell.execute_reply": "2021-05-09T14:41:39.598154Z"
    },
    "papermill": {
     "duration": 0.03982,
     "end_time": "2021-05-09T14:41:39.598343",
     "exception": false,
     "start_time": "2021-05-09T14:41:39.558523",
     "status": "completed"
    },
    "tags": []
   },
   "outputs": [
    {
     "data": {
      "text/plain": [
       "pandas.core.frame.DataFrame"
      ]
     },
     "execution_count": 11,
     "metadata": {},
     "output_type": "execute_result"
    }
   ],
   "source": [
    "Spam = pd.DataFrame(Spam)\n",
    "type(Spam)"
   ]
  },
  {
   "cell_type": "code",
   "execution_count": 12,
   "id": "assigned-eight",
   "metadata": {
    "execution": {
     "iopub.execute_input": "2021-05-09T14:41:39.657769Z",
     "iopub.status.busy": "2021-05-09T14:41:39.657042Z",
     "iopub.status.idle": "2021-05-09T14:41:39.668043Z",
     "shell.execute_reply": "2021-05-09T14:41:39.668572Z"
    },
    "papermill": {
     "duration": 0.042471,
     "end_time": "2021-05-09T14:41:39.668747",
     "exception": false,
     "start_time": "2021-05-09T14:41:39.626276",
     "status": "completed"
    },
    "tags": []
   },
   "outputs": [
    {
     "data": {
      "text/html": [
       "<div>\n",
       "<style scoped>\n",
       "    .dataframe tbody tr th:only-of-type {\n",
       "        vertical-align: middle;\n",
       "    }\n",
       "\n",
       "    .dataframe tbody tr th {\n",
       "        vertical-align: top;\n",
       "    }\n",
       "\n",
       "    .dataframe thead th {\n",
       "        text-align: right;\n",
       "    }\n",
       "</style>\n",
       "<table border=\"1\" class=\"dataframe\">\n",
       "  <thead>\n",
       "    <tr style=\"text-align: right;\">\n",
       "      <th></th>\n",
       "      <th>0</th>\n",
       "      <th>Text</th>\n",
       "    </tr>\n",
       "  </thead>\n",
       "  <tbody>\n",
       "    <tr>\n",
       "      <th>0</th>\n",
       "      <td>1</td>\n",
       "      <td>Go until jurong point, crazy.. Available only ...</td>\n",
       "    </tr>\n",
       "    <tr>\n",
       "      <th>1</th>\n",
       "      <td>1</td>\n",
       "      <td>Ok lar... Joking wif u oni...</td>\n",
       "    </tr>\n",
       "    <tr>\n",
       "      <th>2</th>\n",
       "      <td>0</td>\n",
       "      <td>Free entry in 2 a wkly comp to win FA Cup fina...</td>\n",
       "    </tr>\n",
       "    <tr>\n",
       "      <th>3</th>\n",
       "      <td>1</td>\n",
       "      <td>U dun say so early hor... U c already then say...</td>\n",
       "    </tr>\n",
       "    <tr>\n",
       "      <th>4</th>\n",
       "      <td>1</td>\n",
       "      <td>Nah I don't think he goes to usf, he lives aro...</td>\n",
       "    </tr>\n",
       "  </tbody>\n",
       "</table>\n",
       "</div>"
      ],
      "text/plain": [
       "   0                                               Text\n",
       "0  1  Go until jurong point, crazy.. Available only ...\n",
       "1  1                      Ok lar... Joking wif u oni...\n",
       "2  0  Free entry in 2 a wkly comp to win FA Cup fina...\n",
       "3  1  U dun say so early hor... U c already then say...\n",
       "4  1  Nah I don't think he goes to usf, he lives aro..."
      ]
     },
     "execution_count": 12,
     "metadata": {},
     "output_type": "execute_result"
    }
   ],
   "source": [
    "df = pd.concat([Spam,data[\"Text\"]],axis=1)\n",
    "df.head()"
   ]
  },
  {
   "cell_type": "code",
   "execution_count": 13,
   "id": "raising-chile",
   "metadata": {
    "execution": {
     "iopub.execute_input": "2021-05-09T14:41:39.728613Z",
     "iopub.status.busy": "2021-05-09T14:41:39.727993Z",
     "iopub.status.idle": "2021-05-09T14:41:39.732094Z",
     "shell.execute_reply": "2021-05-09T14:41:39.732598Z"
    },
    "papermill": {
     "duration": 0.035509,
     "end_time": "2021-05-09T14:41:39.732766",
     "exception": false,
     "start_time": "2021-05-09T14:41:39.697257",
     "status": "completed"
    },
    "tags": []
   },
   "outputs": [],
   "source": [
    "column_name = [\"Spam\",\"Text\"]\n",
    "df.columns = column_name"
   ]
  },
  {
   "cell_type": "code",
   "execution_count": 14,
   "id": "cooperative-imaging",
   "metadata": {
    "execution": {
     "iopub.execute_input": "2021-05-09T14:41:39.792824Z",
     "iopub.status.busy": "2021-05-09T14:41:39.792201Z",
     "iopub.status.idle": "2021-05-09T14:41:39.802278Z",
     "shell.execute_reply": "2021-05-09T14:41:39.802811Z"
    },
    "papermill": {
     "duration": 0.041809,
     "end_time": "2021-05-09T14:41:39.803088",
     "exception": false,
     "start_time": "2021-05-09T14:41:39.761279",
     "status": "completed"
    },
    "tags": []
   },
   "outputs": [
    {
     "data": {
      "text/html": [
       "<div>\n",
       "<style scoped>\n",
       "    .dataframe tbody tr th:only-of-type {\n",
       "        vertical-align: middle;\n",
       "    }\n",
       "\n",
       "    .dataframe tbody tr th {\n",
       "        vertical-align: top;\n",
       "    }\n",
       "\n",
       "    .dataframe thead th {\n",
       "        text-align: right;\n",
       "    }\n",
       "</style>\n",
       "<table border=\"1\" class=\"dataframe\">\n",
       "  <thead>\n",
       "    <tr style=\"text-align: right;\">\n",
       "      <th></th>\n",
       "      <th>Spam</th>\n",
       "      <th>Text</th>\n",
       "    </tr>\n",
       "  </thead>\n",
       "  <tbody>\n",
       "    <tr>\n",
       "      <th>0</th>\n",
       "      <td>1</td>\n",
       "      <td>Go until jurong point, crazy.. Available only ...</td>\n",
       "    </tr>\n",
       "    <tr>\n",
       "      <th>1</th>\n",
       "      <td>1</td>\n",
       "      <td>Ok lar... Joking wif u oni...</td>\n",
       "    </tr>\n",
       "    <tr>\n",
       "      <th>2</th>\n",
       "      <td>0</td>\n",
       "      <td>Free entry in 2 a wkly comp to win FA Cup fina...</td>\n",
       "    </tr>\n",
       "    <tr>\n",
       "      <th>3</th>\n",
       "      <td>1</td>\n",
       "      <td>U dun say so early hor... U c already then say...</td>\n",
       "    </tr>\n",
       "    <tr>\n",
       "      <th>4</th>\n",
       "      <td>1</td>\n",
       "      <td>Nah I don't think he goes to usf, he lives aro...</td>\n",
       "    </tr>\n",
       "  </tbody>\n",
       "</table>\n",
       "</div>"
      ],
      "text/plain": [
       "   Spam                                               Text\n",
       "0     1  Go until jurong point, crazy.. Available only ...\n",
       "1     1                      Ok lar... Joking wif u oni...\n",
       "2     0  Free entry in 2 a wkly comp to win FA Cup fina...\n",
       "3     1  U dun say so early hor... U c already then say...\n",
       "4     1  Nah I don't think he goes to usf, he lives aro..."
      ]
     },
     "execution_count": 14,
     "metadata": {},
     "output_type": "execute_result"
    }
   ],
   "source": [
    "df.head()"
   ]
  },
  {
   "cell_type": "code",
   "execution_count": 15,
   "id": "african-orchestra",
   "metadata": {
    "execution": {
     "iopub.execute_input": "2021-05-09T14:41:39.864880Z",
     "iopub.status.busy": "2021-05-09T14:41:39.864256Z",
     "iopub.status.idle": "2021-05-09T14:41:39.870440Z",
     "shell.execute_reply": "2021-05-09T14:41:39.869717Z"
    },
    "papermill": {
     "duration": 0.037872,
     "end_time": "2021-05-09T14:41:39.870585",
     "exception": false,
     "start_time": "2021-05-09T14:41:39.832713",
     "status": "completed"
    },
    "tags": []
   },
   "outputs": [
    {
     "data": {
      "text/plain": [
       "pandas.core.series.Series"
      ]
     },
     "execution_count": 15,
     "metadata": {},
     "output_type": "execute_result"
    }
   ],
   "source": [
    "type(df[\"Spam\"])"
   ]
  },
  {
   "cell_type": "code",
   "execution_count": 16,
   "id": "yellow-invitation",
   "metadata": {
    "execution": {
     "iopub.execute_input": "2021-05-09T14:41:39.933012Z",
     "iopub.status.busy": "2021-05-09T14:41:39.932335Z",
     "iopub.status.idle": "2021-05-09T14:41:39.937133Z",
     "shell.execute_reply": "2021-05-09T14:41:39.937716Z"
    },
    "papermill": {
     "duration": 0.037711,
     "end_time": "2021-05-09T14:41:39.937924",
     "exception": false,
     "start_time": "2021-05-09T14:41:39.900213",
     "status": "completed"
    },
    "tags": []
   },
   "outputs": [
    {
     "data": {
      "text/plain": [
       "(5572, 2)"
      ]
     },
     "execution_count": 16,
     "metadata": {},
     "output_type": "execute_result"
    }
   ],
   "source": [
    "df.shape"
   ]
  },
  {
   "cell_type": "code",
   "execution_count": 17,
   "id": "cubic-newport",
   "metadata": {
    "execution": {
     "iopub.execute_input": "2021-05-09T14:41:40.003123Z",
     "iopub.status.busy": "2021-05-09T14:41:40.002398Z",
     "iopub.status.idle": "2021-05-09T14:41:40.008388Z",
     "shell.execute_reply": "2021-05-09T14:41:40.008991Z"
    },
    "papermill": {
     "duration": 0.040547,
     "end_time": "2021-05-09T14:41:40.009177",
     "exception": false,
     "start_time": "2021-05-09T14:41:39.968630",
     "status": "completed"
    },
    "tags": []
   },
   "outputs": [
    {
     "data": {
      "text/plain": [
       "Index(['Spam', 'Text'], dtype='object')"
      ]
     },
     "execution_count": 17,
     "metadata": {},
     "output_type": "execute_result"
    }
   ],
   "source": [
    "df.columns"
   ]
  },
  {
   "cell_type": "code",
   "execution_count": 18,
   "id": "unlimited-cruise",
   "metadata": {
    "execution": {
     "iopub.execute_input": "2021-05-09T14:41:40.077018Z",
     "iopub.status.busy": "2021-05-09T14:41:40.076335Z",
     "iopub.status.idle": "2021-05-09T14:41:40.085346Z",
     "shell.execute_reply": "2021-05-09T14:41:40.084748Z"
    },
    "papermill": {
     "duration": 0.043593,
     "end_time": "2021-05-09T14:41:40.085490",
     "exception": false,
     "start_time": "2021-05-09T14:41:40.041897",
     "status": "completed"
    },
    "tags": []
   },
   "outputs": [
    {
     "data": {
      "text/plain": [
       "Spam    False\n",
       "Text    False\n",
       "dtype: bool"
      ]
     },
     "execution_count": 18,
     "metadata": {},
     "output_type": "execute_result"
    }
   ],
   "source": [
    "df.isnull().any()"
   ]
  },
  {
   "cell_type": "markdown",
   "id": "reported-semiconductor",
   "metadata": {
    "papermill": {
     "duration": 0.030704,
     "end_time": "2021-05-09T14:41:40.147107",
     "exception": false,
     "start_time": "2021-05-09T14:41:40.116403",
     "status": "completed"
    },
    "tags": []
   },
   "source": [
    "Stopwords package"
   ]
  },
  {
   "cell_type": "code",
   "execution_count": 19,
   "id": "suffering-therapy",
   "metadata": {
    "execution": {
     "iopub.execute_input": "2021-05-09T14:41:40.224488Z",
     "iopub.status.busy": "2021-05-09T14:41:40.223712Z",
     "iopub.status.idle": "2021-05-09T14:41:40.367045Z",
     "shell.execute_reply": "2021-05-09T14:41:40.366294Z"
    },
    "papermill": {
     "duration": 0.188029,
     "end_time": "2021-05-09T14:41:40.367200",
     "exception": false,
     "start_time": "2021-05-09T14:41:40.179171",
     "status": "completed"
    },
    "tags": []
   },
   "outputs": [
    {
     "name": "stdout",
     "output_type": "stream",
     "text": [
      "[nltk_data] Downloading package stopwords to /usr/share/nltk_data...\n",
      "[nltk_data]   Package stopwords is already up-to-date!\n"
     ]
    },
    {
     "data": {
      "text/plain": [
       "True"
      ]
     },
     "execution_count": 19,
     "metadata": {},
     "output_type": "execute_result"
    }
   ],
   "source": [
    "nltk.download('stopwords')"
   ]
  },
  {
   "cell_type": "markdown",
   "id": "ordinary-brazilian",
   "metadata": {
    "papermill": {
     "duration": 0.032408,
     "end_time": "2021-05-09T14:41:40.431926",
     "exception": false,
     "start_time": "2021-05-09T14:41:40.399518",
     "status": "completed"
    },
    "tags": []
   },
   "source": [
    "Remove Punctuation and Stopwords"
   ]
  },
  {
   "cell_type": "code",
   "execution_count": 20,
   "id": "broad-hepatitis",
   "metadata": {
    "execution": {
     "iopub.execute_input": "2021-05-09T14:41:40.502230Z",
     "iopub.status.busy": "2021-05-09T14:41:40.501376Z",
     "iopub.status.idle": "2021-05-09T14:41:40.504893Z",
     "shell.execute_reply": "2021-05-09T14:41:40.504304Z"
    },
    "papermill": {
     "duration": 0.041251,
     "end_time": "2021-05-09T14:41:40.505045",
     "exception": false,
     "start_time": "2021-05-09T14:41:40.463794",
     "status": "completed"
    },
    "tags": []
   },
   "outputs": [],
   "source": [
    "def process(text):\n",
    "    punc = [c for c in text if c not in string.punctuation]\n",
    "    punc = ''.join(punc)\n",
    "    stopw = [w for w in punc.split() if w.lower() not in stopwords.words('english') ]\n",
    "    return stopw"
   ]
  },
  {
   "cell_type": "code",
   "execution_count": 21,
   "id": "absolute-stevens",
   "metadata": {
    "execution": {
     "iopub.execute_input": "2021-05-09T14:41:40.573190Z",
     "iopub.status.busy": "2021-05-09T14:41:40.572480Z",
     "iopub.status.idle": "2021-05-09T14:41:40.603114Z",
     "shell.execute_reply": "2021-05-09T14:41:40.603868Z"
    },
    "papermill": {
     "duration": 0.066627,
     "end_time": "2021-05-09T14:41:40.604123",
     "exception": false,
     "start_time": "2021-05-09T14:41:40.537496",
     "status": "completed"
    },
    "tags": []
   },
   "outputs": [
    {
     "data": {
      "text/plain": [
       "0    [Go, jurong, point, crazy, Available, bugis, n...\n",
       "1                       [Ok, lar, Joking, wif, u, oni]\n",
       "2    [Free, entry, 2, wkly, comp, win, FA, Cup, fin...\n",
       "3        [U, dun, say, early, hor, U, c, already, say]\n",
       "4    [Nah, dont, think, goes, usf, lives, around, t...\n",
       "Name: Text, dtype: object"
      ]
     },
     "execution_count": 21,
     "metadata": {},
     "output_type": "execute_result"
    }
   ],
   "source": [
    "df['Text'].head().apply(process)"
   ]
  },
  {
   "cell_type": "markdown",
   "id": "rough-gospel",
   "metadata": {
    "papermill": {
     "duration": 0.034757,
     "end_time": "2021-05-09T14:41:40.673857",
     "exception": false,
     "start_time": "2021-05-09T14:41:40.639100",
     "status": "completed"
    },
    "tags": []
   },
   "source": [
    "Convert the text to a matrix of special word counts"
   ]
  },
  {
   "cell_type": "code",
   "execution_count": 22,
   "id": "worldwide-hamburg",
   "metadata": {
    "execution": {
     "iopub.execute_input": "2021-05-09T14:41:40.743553Z",
     "iopub.status.busy": "2021-05-09T14:41:40.742872Z",
     "iopub.status.idle": "2021-05-09T14:41:52.194538Z",
     "shell.execute_reply": "2021-05-09T14:41:52.195055Z"
    },
    "papermill": {
     "duration": 11.487514,
     "end_time": "2021-05-09T14:41:52.195263",
     "exception": false,
     "start_time": "2021-05-09T14:41:40.707749",
     "status": "completed"
    },
    "tags": []
   },
   "outputs": [],
   "source": [
    "from sklearn.feature_extraction.text import CountVectorizer\n",
    "message = CountVectorizer(analyzer=process).fit_transform(df['Text'])"
   ]
  },
  {
   "cell_type": "code",
   "execution_count": 23,
   "id": "unknown-adelaide",
   "metadata": {
    "execution": {
     "iopub.execute_input": "2021-05-09T14:41:52.265694Z",
     "iopub.status.busy": "2021-05-09T14:41:52.265065Z",
     "iopub.status.idle": "2021-05-09T14:41:52.271187Z",
     "shell.execute_reply": "2021-05-09T14:41:52.270578Z"
    },
    "papermill": {
     "duration": 0.042355,
     "end_time": "2021-05-09T14:41:52.271330",
     "exception": false,
     "start_time": "2021-05-09T14:41:52.228975",
     "status": "completed"
    },
    "tags": []
   },
   "outputs": [
    {
     "data": {
      "text/plain": [
       "(5572, 11301)"
      ]
     },
     "execution_count": 23,
     "metadata": {},
     "output_type": "execute_result"
    }
   ],
   "source": [
    "message.shape"
   ]
  },
  {
   "cell_type": "code",
   "execution_count": 24,
   "id": "dominant-publisher",
   "metadata": {
    "execution": {
     "iopub.execute_input": "2021-05-09T14:41:52.344103Z",
     "iopub.status.busy": "2021-05-09T14:41:52.343214Z",
     "iopub.status.idle": "2021-05-09T14:41:52.351706Z",
     "shell.execute_reply": "2021-05-09T14:41:52.350811Z"
    },
    "papermill": {
     "duration": 0.047161,
     "end_time": "2021-05-09T14:41:52.351893",
     "exception": false,
     "start_time": "2021-05-09T14:41:52.304732",
     "status": "completed"
    },
    "tags": []
   },
   "outputs": [],
   "source": [
    "from sklearn.model_selection import train_test_split\n",
    "x_train, x_test, y_train, y_test = train_test_split(message, df['Spam'],test_size=0.2, random_state=0)"
   ]
  },
  {
   "cell_type": "markdown",
   "id": "viral-template",
   "metadata": {
    "papermill": {
     "duration": 0.033758,
     "end_time": "2021-05-09T14:41:52.419181",
     "exception": false,
     "start_time": "2021-05-09T14:41:52.385423",
     "status": "completed"
    },
    "tags": []
   },
   "source": [
    "Naive Bayes Classifier"
   ]
  },
  {
   "cell_type": "code",
   "execution_count": 25,
   "id": "cardiovascular-notification",
   "metadata": {
    "execution": {
     "iopub.execute_input": "2021-05-09T14:41:52.489786Z",
     "iopub.status.busy": "2021-05-09T14:41:52.488784Z",
     "iopub.status.idle": "2021-05-09T14:41:52.501009Z",
     "shell.execute_reply": "2021-05-09T14:41:52.501515Z"
    },
    "papermill": {
     "duration": 0.049063,
     "end_time": "2021-05-09T14:41:52.501703",
     "exception": false,
     "start_time": "2021-05-09T14:41:52.452640",
     "status": "completed"
    },
    "tags": []
   },
   "outputs": [],
   "source": [
    "from sklearn.naive_bayes import MultinomialNB\n",
    "classifier = MultinomialNB().fit(x_train,y_train)"
   ]
  },
  {
   "cell_type": "code",
   "execution_count": 26,
   "id": "treated-nancy",
   "metadata": {
    "execution": {
     "iopub.execute_input": "2021-05-09T14:41:52.571765Z",
     "iopub.status.busy": "2021-05-09T14:41:52.571149Z",
     "iopub.status.idle": "2021-05-09T14:41:52.577811Z",
     "shell.execute_reply": "2021-05-09T14:41:52.577155Z"
    },
    "papermill": {
     "duration": 0.042953,
     "end_time": "2021-05-09T14:41:52.577987",
     "exception": false,
     "start_time": "2021-05-09T14:41:52.535034",
     "status": "completed"
    },
    "tags": []
   },
   "outputs": [
    {
     "data": {
      "text/plain": [
       "array([1, 1, 1, ..., 1, 1, 1])"
      ]
     },
     "execution_count": 26,
     "metadata": {},
     "output_type": "execute_result"
    }
   ],
   "source": [
    "#prediction\n",
    "classifier.predict(x_train)"
   ]
  },
  {
   "cell_type": "code",
   "execution_count": 27,
   "id": "occupied-strike",
   "metadata": {
    "execution": {
     "iopub.execute_input": "2021-05-09T14:41:52.651239Z",
     "iopub.status.busy": "2021-05-09T14:41:52.650525Z",
     "iopub.status.idle": "2021-05-09T14:41:52.654902Z",
     "shell.execute_reply": "2021-05-09T14:41:52.654212Z"
    },
    "papermill": {
     "duration": 0.043135,
     "end_time": "2021-05-09T14:41:52.655047",
     "exception": false,
     "start_time": "2021-05-09T14:41:52.611912",
     "status": "completed"
    },
    "tags": []
   },
   "outputs": [
    {
     "data": {
      "text/plain": [
       "array([1, 1, 1, ..., 1, 1, 1])"
      ]
     },
     "execution_count": 27,
     "metadata": {},
     "output_type": "execute_result"
    }
   ],
   "source": [
    "#Actual\n",
    "y_train.values"
   ]
  },
  {
   "cell_type": "code",
   "execution_count": 28,
   "id": "cathedral-ladder",
   "metadata": {
    "execution": {
     "iopub.execute_input": "2021-05-09T14:41:52.730116Z",
     "iopub.status.busy": "2021-05-09T14:41:52.729429Z",
     "iopub.status.idle": "2021-05-09T14:41:52.732986Z",
     "shell.execute_reply": "2021-05-09T14:41:52.733482Z"
    },
    "papermill": {
     "duration": 0.04262,
     "end_time": "2021-05-09T14:41:52.733676",
     "exception": false,
     "start_time": "2021-05-09T14:41:52.691056",
     "status": "completed"
    },
    "tags": []
   },
   "outputs": [],
   "source": [
    "from sklearn.metrics import classification_report, confusion_matrix, accuracy_score"
   ]
  },
  {
   "cell_type": "code",
   "execution_count": 29,
   "id": "related-people",
   "metadata": {
    "execution": {
     "iopub.execute_input": "2021-05-09T14:41:52.805732Z",
     "iopub.status.busy": "2021-05-09T14:41:52.805093Z",
     "iopub.status.idle": "2021-05-09T14:41:52.810301Z",
     "shell.execute_reply": "2021-05-09T14:41:52.810873Z"
    },
    "papermill": {
     "duration": 0.043153,
     "end_time": "2021-05-09T14:41:52.811071",
     "exception": false,
     "start_time": "2021-05-09T14:41:52.767918",
     "status": "completed"
    },
    "tags": []
   },
   "outputs": [],
   "source": [
    "def report(y_train, x_train):\n",
    "    pred = classifier.predict(x_train)\n",
    "    print('Report: \\n',classification_report(y_train, pred))\n",
    "    print('Confusion Matrix: \\n', confusion_matrix(y_train, pred))\n",
    "    print('\\n')\n",
    "    print('Accuracy: \\n', accuracy_score(y_train, pred))"
   ]
  },
  {
   "cell_type": "code",
   "execution_count": 30,
   "id": "juvenile-brighton",
   "metadata": {
    "execution": {
     "iopub.execute_input": "2021-05-09T14:41:52.884202Z",
     "iopub.status.busy": "2021-05-09T14:41:52.883540Z",
     "iopub.status.idle": "2021-05-09T14:41:52.910517Z",
     "shell.execute_reply": "2021-05-09T14:41:52.911235Z"
    },
    "papermill": {
     "duration": 0.065716,
     "end_time": "2021-05-09T14:41:52.911488",
     "exception": false,
     "start_time": "2021-05-09T14:41:52.845772",
     "status": "completed"
    },
    "tags": []
   },
   "outputs": [
    {
     "name": "stdout",
     "output_type": "stream",
     "text": [
      "Report: \n",
      "               precision    recall  f1-score   support\n",
      "\n",
      "           0       0.98      0.98      0.98       581\n",
      "           1       1.00      1.00      1.00      3876\n",
      "\n",
      "    accuracy                           0.99      4457\n",
      "   macro avg       0.99      0.99      0.99      4457\n",
      "weighted avg       0.99      0.99      0.99      4457\n",
      "\n",
      "Confusion Matrix: \n",
      " [[ 569   12]\n",
      " [  12 3864]]\n",
      "\n",
      "\n",
      "Accuracy: \n",
      " 0.9946152120260264\n"
     ]
    }
   ],
   "source": [
    "report(y_train, x_train)"
   ]
  }
 ],
 "metadata": {
  "kernelspec": {
   "display_name": "Python 3",
   "language": "python",
   "name": "python3"
  },
  "language_info": {
   "codemirror_mode": {
    "name": "ipython",
    "version": 3
   },
   "file_extension": ".py",
   "mimetype": "text/x-python",
   "name": "python",
   "nbconvert_exporter": "python",
   "pygments_lexer": "ipython3",
   "version": "3.7.10"
  },
  "papermill": {
   "default_parameters": {},
   "duration": 25.851337,
   "end_time": "2021-05-09T14:41:54.675068",
   "environment_variables": {},
   "exception": null,
   "input_path": "__notebook__.ipynb",
   "output_path": "__notebook__.ipynb",
   "parameters": {},
   "start_time": "2021-05-09T14:41:28.823731",
   "version": "2.3.3"
  }
 },
 "nbformat": 4,
 "nbformat_minor": 5
}
